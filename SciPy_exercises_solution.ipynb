{
 "cells": [
  {
   "cell_type": "markdown",
   "metadata": {},
   "source": [
    "# 1. Introduction: ```scipy.stats``` module"
   ]
  },
  {
   "cell_type": "markdown",
   "metadata": {},
   "source": [
    "The SciPy library has many modules, each aiming to solve or handle specific purposes related to science. The scope of the modules themselves can be daunting, and without knowing when and where to use them, it is easy to overlook the library's usefulness. This exercise sticks to using one of the basic module called ```scipy.stats```. \n",
    "\n",
    "```scipy.stats``` contains a large number of probabilitiy distributions and statistical functions. It is an extension to NumPy's own stats module, though the number and variety of functions are much more diverse.\n",
    "\n",
    "The SciPy library has its own [documentation](https://docs.scipy.org/doc/scipy/reference/), which you could refer to."
   ]
  },
  {
   "cell_type": "markdown",
   "metadata": {},
   "source": [
    "# 2. Loading libraries and dataset"
   ]
  },
  {
   "cell_type": "markdown",
   "metadata": {},
   "source": [
    "You can import specific modules of SciPy using ```import scipy.[module_name]``` format. Note that it is convention to import specific module directly to the workspace for SciPy. This avoids possible clash of named global variables that are defined in other modules. \n",
    "\n",
    "Also note that SciPy is built on top of NumPy, NumPy is automatically imported too when SciPy is imported. However, calling NumPy separately avoids any confusion when calling a module specific function."
   ]
  },
  {
   "cell_type": "code",
   "execution_count": 2,
   "metadata": {
    "collapsed": true
   },
   "outputs": [],
   "source": [
    "# import libraries numpy, pandas, and scipy.stats module\n",
    "\n",
    "import numpy as np\n",
    "import pandas as pd\n",
    "import scipy.stats as stats"
   ]
  },
  {
   "cell_type": "code",
   "execution_count": 3,
   "metadata": {
    "collapsed": true
   },
   "outputs": [],
   "source": [
    "# import dataset using pd.read_csv() function\n",
    "df = pd.read_csv(\"anorexia.csv\")"
   ]
  },
  {
   "cell_type": "code",
   "execution_count": 4,
   "metadata": {},
   "outputs": [
    {
     "data": {
      "text/html": [
       "<div>\n",
       "<style>\n",
       "    .dataframe thead tr:only-child th {\n",
       "        text-align: right;\n",
       "    }\n",
       "\n",
       "    .dataframe thead th {\n",
       "        text-align: left;\n",
       "    }\n",
       "\n",
       "    .dataframe tbody tr th {\n",
       "        vertical-align: top;\n",
       "    }\n",
       "</style>\n",
       "<table border=\"1\" class=\"dataframe\">\n",
       "  <thead>\n",
       "    <tr style=\"text-align: right;\">\n",
       "      <th></th>\n",
       "      <th>ID</th>\n",
       "      <th>group</th>\n",
       "      <th>prewt</th>\n",
       "      <th>postwt</th>\n",
       "      <th>difwt</th>\n",
       "    </tr>\n",
       "  </thead>\n",
       "  <tbody>\n",
       "    <tr>\n",
       "      <th>0</th>\n",
       "      <td>101</td>\n",
       "      <td>1</td>\n",
       "      <td>80.5</td>\n",
       "      <td>82.2</td>\n",
       "      <td>1.7</td>\n",
       "    </tr>\n",
       "    <tr>\n",
       "      <th>1</th>\n",
       "      <td>201</td>\n",
       "      <td>2</td>\n",
       "      <td>80.7</td>\n",
       "      <td>80.2</td>\n",
       "      <td>-0.5</td>\n",
       "    </tr>\n",
       "    <tr>\n",
       "      <th>2</th>\n",
       "      <td>301</td>\n",
       "      <td>3</td>\n",
       "      <td>83.8</td>\n",
       "      <td>95.2</td>\n",
       "      <td>11.4</td>\n",
       "    </tr>\n",
       "    <tr>\n",
       "      <th>3</th>\n",
       "      <td>102</td>\n",
       "      <td>1</td>\n",
       "      <td>84.9</td>\n",
       "      <td>85.6</td>\n",
       "      <td>0.7</td>\n",
       "    </tr>\n",
       "    <tr>\n",
       "      <th>4</th>\n",
       "      <td>202</td>\n",
       "      <td>2</td>\n",
       "      <td>89.4</td>\n",
       "      <td>80.1</td>\n",
       "      <td>-9.3</td>\n",
       "    </tr>\n",
       "  </tbody>\n",
       "</table>\n",
       "</div>"
      ],
      "text/plain": [
       "    ID  group  prewt  postwt  difwt\n",
       "0  101      1   80.5    82.2    1.7\n",
       "1  201      2   80.7    80.2   -0.5\n",
       "2  301      3   83.8    95.2   11.4\n",
       "3  102      1   84.9    85.6    0.7\n",
       "4  202      2   89.4    80.1   -9.3"
      ]
     },
     "execution_count": 4,
     "metadata": {},
     "output_type": "execute_result"
    }
   ],
   "source": [
    "# view first few rows of the dataset using pandas dataframe.head() function\n",
    "df.head()"
   ]
  },
  {
   "cell_type": "markdown",
   "metadata": {},
   "source": [
    "This dataset contains the recorded weights of anorexic patients before and after a treatment.\n",
    "\n",
    "* Group 1: Behavioural therapy\n",
    "* Group 2: Control group\n",
    "* Group 3: Family therapy\n",
    "\n",
    "We can use various statistical tools in the scipy.stats module to perform descriptive statistics and statistical tests."
   ]
  },
  {
   "cell_type": "markdown",
   "metadata": {},
   "source": [
    "# 3. Statistical tests"
   ]
  },
  {
   "cell_type": "markdown",
   "metadata": {},
   "source": [
    "## 3-1. Are the weights normally distributed? (Normality tests)\n",
    "\n",
    "There are various ways in which we can test if a given set of data is normally distributed or not.\n",
    "\n",
    "Here we introduce these:\n",
    "* [```scipy.stats.normaltest(x)```](https://docs.scipy.org/doc/scipy/reference/generated/scipy.stats.normaltest.html#r676), where x is the data array\n",
    "* [```scipy.stats.shapiro(x)```](https://docs.scipy.org/doc/scipy/reference/generated/scipy.stats.shapiro.html), where x is the data array\n",
    "\n",
    "Both tests are used to determine whether or not a dataset comes from a normal distribution. For both tests, the hypothesis is as follows:\n",
    "\n",
    "* H0: Sample comes from a normal distribution\n",
    "* H1: Sample does not come from a normal distribution.\n",
    "\n",
    "As in the case of the modules, you can access functions of stats module using ```stats.[function_name]``` format."
   ]
  },
  {
   "cell_type": "code",
   "execution_count": 5,
   "metadata": {},
   "outputs": [
    {
     "name": "stdout",
     "output_type": "stream",
     "text": [
      "pre-weight normal test: NormaltestResult(statistic=0.071823327312827978, pvalue=0.96472551004332929)\n",
      "\n",
      "post-weight normal test: NormaltestResult(statistic=4.8722290987578134, pvalue=0.08750016942113438)\n",
      "\n",
      "weight difference normal test: NormaltestResult(statistic=2.1365312271308587, pvalue=0.34360394293797336)\n"
     ]
    }
   ],
   "source": [
    "# use the normaltest function to find the test statistic and p-value\n",
    "# of 'prewt', 'postwt', and 'difwt' column, and print each of them.\n",
    "# since pandas dataframe is also built on top of arrays,\n",
    "# you can use the dataframe column selection method directly to use the normaltest\n",
    "\n",
    "print(\"pre-weight normal test:\",stats.normaltest(df['prewt']))\n",
    "print(\"\\npost-weight normal test:\",stats.normaltest(df['postwt']))\n",
    "print(\"\\nweight difference normal test:\",stats.normaltest(df['difwt']))"
   ]
  },
  {
   "cell_type": "markdown",
   "metadata": {},
   "source": [
    "As you can see, the function returns 2 values: the test statistic, and the p-value. If you want to access a particular value of the two, you can use the slicing method or assign both values to a new variable at the same time.\n",
    "\n",
    "```\n",
    "# slicing:\n",
    "p_value = stats.normaltest(x)[1]\n",
    "\n",
    "# variable assignment\n",
    "test_statistic, p_value = stats.normaltest(x)\n",
    "```\n",
    "\n",
    "The normaltest uses kurtosis and skewness to test normality. We can check the actual kurtosis and skewness values by using [```stats.kurtosis```](https://docs.scipy.org/doc/scipy/reference/generated/scipy.stats.kurtosis.html) and [```stats.skew```](https://docs.scipy.org/doc/scipy/reference/generated/scipy.stats.skew.html) functions (note: kurtosis returns excess kurtosis value). You can also run a separate tests using [```stats.kurtosistest```](https://docs.scipy.org/doc/scipy-0.16.0/reference/generated/scipy.stats.kurtosistest.html) and [```stats.skewtest```](https://docs.scipy.org/doc/scipy-0.14.0/reference/generated/scipy.stats.skewtest.html). "
   ]
  },
  {
   "cell_type": "code",
   "execution_count": 6,
   "metadata": {},
   "outputs": [
    {
     "name": "stdout",
     "output_type": "stream",
     "text": [
      "pre-weight excess kurtosis: -0.08451214729066026\n",
      "pre-weight skewness: -0.04790844505142429\n",
      "\n",
      "post-weight excess kurtosis: -0.7529474965734595\n",
      "post-weight skewness: 0.37246586066772885\n",
      "\n",
      "weight difference excess kurtosis: -0.5587219355778057\n",
      "weight difference skewness: 0.28246899415470783\n"
     ]
    }
   ],
   "source": [
    "# find the excess kurtosis and skewness values\n",
    "# of'prewt', 'postwt', and 'difwt' columns, and the print the values\n",
    "# using stats.kurtosis(x) and stats.skew(x)\n",
    "\n",
    "print(\"pre-weight excess kurtosis:\", stats.kurtosis(df['prewt']))\n",
    "print(\"pre-weight skewness:\", stats.skew(df['prewt']))\n",
    "\n",
    "print(\"\\npost-weight excess kurtosis:\", stats.kurtosis(df['postwt']))\n",
    "print(\"post-weight skewness:\", stats.skew(df['postwt']))\n",
    "\n",
    "print(\"\\nweight difference excess kurtosis:\", stats.kurtosis(df['difwt']))\n",
    "print(\"weight difference skewness:\", stats.skew(df['difwt']))"
   ]
  },
  {
   "cell_type": "markdown",
   "metadata": {},
   "source": [
    "Just to verify the normality, use the [```stats.shapiro(x)```](https://docs.scipy.org/doc/scipy/reference/generated/scipy.stats.shapiro.html) function to conduct the shapiro test on the columns."
   ]
  },
  {
   "cell_type": "code",
   "execution_count": 7,
   "metadata": {},
   "outputs": [
    {
     "name": "stdout",
     "output_type": "stream",
     "text": [
      "pre-weight shapiro test: (0.9924839735031128, 0.948354184627533)\n",
      "\n",
      "post-weight shapiro test: (0.9673006534576416, 0.05781174451112747)\n",
      "\n",
      "weight difference shapiro test: (0.974664568901062, 0.15441827476024628)\n"
     ]
    }
   ],
   "source": [
    "# use the shapiro function to find the test statistic and p-value\n",
    "# of 'prewt', 'postwt', and 'difwt' column, and print each of them.\n",
    "# shapiro test also returns test-statistic and p-value respectively\n",
    "\n",
    "print(\"pre-weight shapiro test:\",stats.shapiro(df['prewt']))\n",
    "print(\"\\npost-weight shapiro test:\",stats.shapiro(df['postwt']))\n",
    "print(\"\\nweight difference shapiro test:\",stats.shapiro(df['difwt']))"
   ]
  },
  {
   "cell_type": "markdown",
   "metadata": {},
   "source": [
    "## 3-2. Have people's weight changed in general before and after the treatments? (one-sample t-test)\n",
    "\n",
    "Since we already have the values for difference in weight pre and post treatment, we can use one-sample paired t-test on the 'difwt' column to see whether there is a significant change in weights, where the hypothesis is:\n",
    "\n",
    "* H0: Mean difference is equal to 0\n",
    "* H1: Mean difference is not equal to 0\n",
    "\n",
    "We can use the [```stats.ttest_1samp(x, mean)```](https://docs.scipy.org/doc/scipy-0.14.0/reference/generated/scipy.stats.ttest_1samp.html) to conduct the one-sample t-test, where x is the data and mean is the population mean you want to test the data against (in this case, 0). The function returns the test statistic and the p-value respectively."
   ]
  },
  {
   "cell_type": "code",
   "execution_count": 8,
   "metadata": {},
   "outputs": [
    {
     "name": "stdout",
     "output_type": "stream",
     "text": [
      "Ttest_1sampResult(statistic=2.9375697188906669, pvalue=0.0044577180786701566)\n"
     ]
    }
   ],
   "source": [
    "# Use the stats.ttest_1samp function to see whether the 'difwt' column\n",
    "# is different from population mean 0\n",
    "# and print the result\n",
    "print(stats.ttest_1samp(df['difwt'], 0))"
   ]
  },
  {
   "cell_type": "markdown",
   "metadata": {},
   "source": [
    "## 3-3. Have people's weight really change as a result of the treatments? (paired t-test)\n",
    "\n",
    "Now we can check if the actual differences have changed using a paired t-test, as each pre-weight and post-weight has to match for each individual. The hypothesis is similar:\n",
    "\n",
    "* H0: Mean(preweight) = Mean(postweight)\n",
    "* H1: Mean(preweight) != Mean(postweight).\n",
    "\n",
    "We can use the [```stats.ttest_rel(a,b)```](https://docs.scipy.org/doc/scipy/reference/generated/scipy.stats.ttest_rel.html) to conduct a paired t-test, where a and b are each of the samples. The function returns the test-statistic and the p-value respectively."
   ]
  },
  {
   "cell_type": "code",
   "execution_count": 9,
   "metadata": {},
   "outputs": [
    {
     "name": "stdout",
     "output_type": "stream",
     "text": [
      "Ttest_relResult(statistic=-2.9375697188906673, pvalue=0.0044577180786701479)\n"
     ]
    }
   ],
   "source": [
    "# use the stats.ttest_rel function to see whether the values of 'prewt' and 'postwt'\n",
    "# for each individual are significantly different\n",
    "# and print the result\n",
    "print(stats.ttest_rel(df['prewt'], df['postwt']))"
   ]
  },
  {
   "cell_type": "markdown",
   "metadata": {},
   "source": [
    "## 3-4. Are the effect of each treatment different from one another? (one-way ANOVA)\n",
    "\n",
    "Since there are 3 groups, we need to use the ANOVA test to determine whether or not the means (difference in weight) are the same. The hypothesis is as follows:\n",
    "\n",
    "* H0: Mean(group1) = Mean(group2) = Mean(group3)\n",
    "* H1: at least one pair has different means\n",
    "\n",
    "We can use the [```stats.f_oneway(a,b,c...)```](https://docs.scipy.org/doc/scipy/reference/generated/scipy.stats.f_oneway.html) to conduct a one-way anova test, where a, b, c.. are each of the samples. The function returns the test statistic and the p-value respectively."
   ]
  },
  {
   "cell_type": "code",
   "execution_count": 148,
   "metadata": {
    "collapsed": true
   },
   "outputs": [],
   "source": [
    "# create separate dataframes for each of the treatment\n",
    "\n",
    "group_1 = df[df['group'] == 1]\n",
    "group_2 = df[df['group'] == 2]\n",
    "group_3 = df[df['group'] == 3]"
   ]
  },
  {
   "cell_type": "code",
   "execution_count": 149,
   "metadata": {},
   "outputs": [
    {
     "name": "stdout",
     "output_type": "stream",
     "text": [
      "F_onewayResult(statistic=5.4222968682382708, pvalue=0.0064986529806996818)\n"
     ]
    }
   ],
   "source": [
    "# use the stats.f_oneway function to see whether the means of 'difwt' column\n",
    "# are significantly different for at least one pair\n",
    "print(stats.f_oneway(group_1['difwt'], group_2['difwt'], group_3['difwt']))\n",
    "\n",
    "# you can carry out additional tukey's test using\n",
    "# the statsmodels library :)"
   ]
  },
  {
   "cell_type": "markdown",
   "metadata": {},
   "source": [
    "# Bonus: linear algebra using SciPy"
   ]
  },
  {
   "cell_type": "markdown",
   "metadata": {},
   "source": [
    "SciPy is the basis of the subsequent python libraries used for machine learning and AI. We'll be looking at one of the functionalities of SciPy to see how the algorithms used in sklearn work in the backend."
   ]
  },
  {
   "cell_type": "markdown",
   "metadata": {},
   "source": [
    "The goal of linear regression is to find that one regression line that best explains the relationship between a set of predictor variables and a single target variable. The 'best' line is the one that minimizes the squared values of the residuals (abs(observed - expected)). You can use the ```linalg.lstsq``` function from the ```scipy.linalg``` module to find to find the line that minimizes the linear least-squares."
   ]
  },
  {
   "cell_type": "code",
   "execution_count": 151,
   "metadata": {},
   "outputs": [
    {
     "data": {
      "image/png": "[encoded data removed]",
      "text/plain": [
       "<IPython.core.display.Image object>"
      ]
     },
     "execution_count": 151,
     "metadata": {},
     "output_type": "execute_result"
    }
   ],
   "source": [
    "# example of calculating OLS based on regression line\n",
    "from IPython.display import Image\n",
    "Image(filename='ols.png')"
   ]
  },
  {
   "cell_type": "markdown",
   "metadata": {},
   "source": [
    "We will use the anoerxia data again and try to explain the postweight based on pre-weight. We will find the best line that minimizes the least squared values using the ```linalg.lstsq``` function."
   ]
  },
  {
   "cell_type": "code",
   "execution_count": 163,
   "metadata": {
    "collapsed": true
   },
   "outputs": [],
   "source": [
    "# import linalg module from scipy\n",
    "from scipy import linalg as linalg\n",
    "\n",
    "# import matplotlib.pyplot to plot graphs\n",
    "import matplotlib.pyplot as plt\n",
    "%matplotlib inline"
   ]
  },
  {
   "cell_type": "markdown",
   "metadata": {},
   "source": [
    "The [```linalg.lstsq(a,b)```](https://docs.scipy.org/doc/numpy/reference/generated/numpy.linalg.lstsq.html) function requires 2 parameters. a is a matrix of predictor variables, while b is an array of target variable. In this example, a would be the pre-weight and the target variable would be the post-weight data.\n",
    "\n",
    "The function returns 4 values, which you can check out the details [here](https://docs.scipy.org/doc/numpy/reference/generated/numpy.linalg.lstsq.html). For right now, we're interested in only the first one, which is an array containing the coefficent m and the intercept constant c.\n"
   ]
  },
  {
   "cell_type": "code",
   "execution_count": 164,
   "metadata": {},
   "outputs": [
    {
     "name": "stdout",
     "output_type": "stream",
     "text": [
      "<class 'numpy.ndarray'>\n",
      "<class 'numpy.ndarray'>\n"
     ]
    }
   ],
   "source": [
    "# transform the prewt and postwt Series as numpy arrays\n",
    "# using df.as_matrix() function\n",
    "# this transformation is needed to use the lstsq function\n",
    "\n",
    "prewt_arr = df.prewt.as_matrix()\n",
    "postwt_arr = df.postwt.as_matrix()\n",
    "\n",
    "# verify transformation\n",
    "print(type(prewt_arr))\n",
    "print(type(postwt_arr))"
   ]
  },
  {
   "cell_type": "code",
   "execution_count": 165,
   "metadata": {
    "collapsed": true
   },
   "outputs": [],
   "source": [
    "# transform the preweight array as a matrix\n",
    "A = np.vstack([prewt_arr, np.ones(len(prewt_arr))]).T"
   ]
  },
  {
   "cell_type": "code",
   "execution_count": 166,
   "metadata": {},
   "outputs": [
    {
     "name": "stdout",
     "output_type": "stream",
     "text": [
      "Coefficent 0.51538042685\n",
      "Constant: 42.7005802129\n"
     ]
    }
   ],
   "source": [
    "# find the coefficent and the intercept constant\n",
    "# using the lstsq function\n",
    "m, c = linalg.lstsq(A,postwt_arr)[0]\n",
    "\n",
    "print(\"Coefficent\", m)\n",
    "print(\"Constant:\", c)"
   ]
  },
  {
   "cell_type": "code",
   "execution_count": 168,
   "metadata": {
    "scrolled": true
   },
   "outputs": [
    {
     "data": {
      "text/plain": [
       "<matplotlib.legend.Legend at 0x114ffa9b0>"
      ]
     },
     "execution_count": 168,
     "metadata": {},
     "output_type": "execute_result"
    },
    {
     "data": {
      "image/png": "[encoded data removed]",
      "text/plain": [
       "<matplotlib.figure.Figure at 0x1157f4710>"
      ]
     },
     "metadata": {},
     "output_type": "display_data"
    }
   ],
   "source": [
    "# plot the original data as scatterplot\n",
    "plt.scatter(prewt_arr, postwt_arr, label = 'original data')\n",
    "\n",
    "# plot the best fit line based on the least squared values\n",
    "plt.plot(prewt_arr, (m * prewt_arr + c), 'r', label = 'fitted line')\n",
    "\n",
    "# show the plot\n",
    "plt.legend()"
   ]
  }
 ],
 "metadata": {
  "kernelspec": {
   "display_name": "Python 3",
   "language": "python",
   "name": "python3"
  },
  "language_info": {
   "codemirror_mode": {
    "name": "ipython",
    "version": 3
   },
   "file_extension": ".py",
   "mimetype": "text/x-python",
   "name": "python",
   "nbconvert_exporter": "python",
   "pygments_lexer": "ipython3",
   "version": "3.6.1"
  }
 },
 "nbformat": 4,
 "nbformat_minor": 2
}
